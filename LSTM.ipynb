{
 "cells": [
  {
   "cell_type": "markdown",
   "metadata": {},
   "source": [
    "# Long Shorterm Memory Neural Network (LSTM NN)"
   ]
  },
  {
   "cell_type": "markdown",
   "metadata": {},
   "source": [
    "### Import libraries"
   ]
  },
  {
   "cell_type": "code",
   "execution_count": 1,
   "metadata": {},
   "outputs": [
    {
     "data": {
      "text/html": [
       "        <script type=\"text/javascript\">\n",
       "        window.PlotlyConfig = {MathJaxConfig: 'local'};\n",
       "        if (window.MathJax) {MathJax.Hub.Config({SVG: {font: \"STIX-Web\"}});}\n",
       "        if (typeof require !== 'undefined') {\n",
       "        require.undef(\"plotly\");\n",
       "        requirejs.config({\n",
       "            paths: {\n",
       "                'plotly': ['https://cdn.plot.ly/plotly-latest.min']\n",
       "            }\n",
       "        });\n",
       "        require(['plotly'], function(Plotly) {\n",
       "            window._Plotly = Plotly;\n",
       "        });\n",
       "        }\n",
       "        </script>\n",
       "        "
      ]
     },
     "metadata": {},
     "output_type": "display_data"
    }
   ],
   "source": [
    "import numpy as np\n",
    "import pandas as pd\n",
    "import math\n",
    "import json\n",
    "\n",
    "import tensorflow as tf\n",
    "from tensorflow import keras\n",
    "from tensorflow.keras import layers\n",
    "\n",
    "# Import graphical tools\n",
    "import matplotlib.pyplot as plt\n",
    "\n",
    "import plotly as py\n",
    "import plotly.graph_objs as go\n",
    "import ipywidgets as widgets\n",
    "from scipy import special\n",
    "\n",
    "py.offline.init_notebook_mode(connected = True)"
   ]
  },
  {
   "cell_type": "markdown",
   "metadata": {},
   "source": [
    "### Data preparation"
   ]
  },
  {
   "cell_type": "code",
   "execution_count": 2,
   "metadata": {},
   "outputs": [],
   "source": [
    "# Import datasets and create dataframes \n",
    "\n",
    "path_machine = path_machine # path of realKnownCause/machine_temperature_system_failure.csv \n",
    "\n",
    "path_cloud_train = path_cloud_train # path of realAWSCloudwatch/rds_cpu_utilization_cc0c53.csv\n",
    "\n",
    "path_cloud_test = path_cloud_test # path of realAWSCloudwatch/rds_cpu_utilization_e47b3b.csv\n",
    "\n",
    "data_used = 'machine'\n",
    "\n",
    "def dataframe_creator(data_name):\n",
    "    if data_name == 'cloud':\n",
    "        df_train = pd.read_csv(path_cloud_train, parse_dates = True, index_col = 'timestamp')\n",
    "        df_test = pd.read_csv(path_cloud_test, parse_dates = True, index_col = 'timestamp')\n",
    "        \n",
    "        filename = ['realAWSCloudwatch/rds_cpu_utilization_cc0c53.csv', 'realAWSCloudwatch/rds_cpu_utilization_e47b3b.csv']\n",
    "        \n",
    "    elif data_name == 'machine': \n",
    "        df = pd.read_csv(path_machine, parse_dates = True, index_col = 'timestamp')\n",
    "        \n",
    "        df_train = df[:round(len(df)*0.8)] # 75% training data\n",
    "        df_test = df[round(len(df)*0.8):] # 25% test data\n",
    "        \n",
    "        filename = 'realKnownCause/machine_temperature_system_failure.csv'\n",
    "        \n",
    "    return filename, df_train, df_test"
   ]
  },
  {
   "cell_type": "code",
   "execution_count": 3,
   "metadata": {},
   "outputs": [
    {
     "name": "stdout",
     "output_type": "stream",
     "text": [
      "realKnownCause/machine_temperature_system_failure.csv\n",
      "                         value\n",
      "timestamp                     \n",
      "2013-12-02 21:15:00  73.967322\n",
      "2013-12-02 21:20:00  74.935882\n",
      "2013-12-02 21:25:00  76.124162\n",
      "2013-12-02 21:30:00  78.140707\n",
      "2013-12-02 21:35:00  79.329836\n",
      "                         value\n",
      "timestamp                     \n",
      "2014-02-03 21:15:00  98.740763\n",
      "2014-02-03 21:20:00  96.882824\n",
      "2014-02-03 21:25:00  98.841761\n",
      "2014-02-03 21:30:00  97.474381\n",
      "2014-02-03 21:35:00  97.492345\n"
     ]
    }
   ],
   "source": [
    "filename, df_train, df_test = dataframe_creator(data_used)\n",
    "\n",
    "# Quick look at the data\n",
    "print(filename)\n",
    "print(df_train.head())\n",
    "\n",
    "print(df_test.head())"
   ]
  },
  {
   "cell_type": "code",
   "execution_count": 4,
   "metadata": {},
   "outputs": [],
   "source": [
    "# Standardize and parse training and test data\n",
    "def parse_and_standardize(train, test):\n",
    "    train_mean = train.mean()\n",
    "    train_std = train.std()\n",
    "    \n",
    "    stand_train = (train - train_mean)/train_std\n",
    "    stand_test = (test - train_mean)/train_std\n",
    "    \n",
    "    return stand_train, stand_test\n",
    "\n",
    "std_train, std_val = parse_and_standardize(df_train, df_test)"
   ]
  },
  {
   "cell_type": "code",
   "execution_count": 5,
   "metadata": {},
   "outputs": [
    {
     "name": "stdout",
     "output_type": "stream",
     "text": [
      "                        value\n",
      "timestamp                    \n",
      "2013-12-02 21:15:00 -0.987640\n",
      "2013-12-02 21:20:00 -0.906256\n",
      "2013-12-02 21:25:00 -0.806411\n",
      "2013-12-02 21:30:00 -0.636970\n",
      "2013-12-02 21:35:00 -0.537053\n",
      "                        value\n",
      "timestamp                    \n",
      "2014-02-03 21:15:00  1.093956\n",
      "2014-02-03 21:20:00  0.937843\n",
      "2014-02-03 21:25:00  1.102443\n",
      "2014-02-03 21:30:00  0.987548\n",
      "2014-02-03 21:35:00  0.989058\n"
     ]
    }
   ],
   "source": [
    "# Quick look at the standardized data\n",
    "print(std_train.head())\n",
    "print(std_val.head())"
   ]
  },
  {
   "cell_type": "code",
   "execution_count": 6,
   "metadata": {},
   "outputs": [
    {
     "name": "stdout",
     "output_type": "stream",
     "text": [
      "                        value\n",
      "timestamp                    \n",
      "2013-12-11 06:00:00  1.429675\n",
      "2013-12-16 17:25:00 -7.027598\n",
      "2014-01-28 13:15:00 -2.670834\n",
      "                        value\n",
      "timestamp                    \n",
      "2014-02-08 14:30:00 -5.027541\n"
     ]
    }
   ],
   "source": [
    "# Import anomalies\n",
    "\n",
    "labels_path =  '/Users/moa/Desktop/Kandidatarbete 2021/Dataset/NAB-master/labels/combined_labels.json'\n",
    "\n",
    "with open(labels_path, 'r') as f:\n",
    "    anomalies_timestamp = json.load(f)\n",
    "    \n",
    "if data_used == 'cloud':\n",
    "    train_anomalies = std_train[std_train.index.isin(anomalies_timestamp[filename[0]])]\n",
    "    test_anomalies = std_val[std_val.index.isin(anomalies_timestamp[filename[1]])]\n",
    "    \n",
    "elif data_used == 'machine':\n",
    "    train_anomalies = std_train[std_train.index.isin(anomalies_timestamp[filename])]\n",
    "    test_anomalies = std_val[std_val.index.isin(anomalies_timestamp[filename])]\n",
    "    \n",
    "# View position of anomalies\n",
    "print(train_anomalies.head())\n",
    "print(test_anomalies.head())"
   ]
  },
  {
   "cell_type": "markdown",
   "metadata": {},
   "source": [
    "### Create LSTM model"
   ]
  },
  {
   "cell_type": "code",
   "execution_count": 7,
   "metadata": {},
   "outputs": [
    {
     "name": "stdout",
     "output_type": "stream",
     "text": [
      "Training shape: (18146, 10, 1)\n",
      "Testing shape: (4529, 10, 1)\n"
     ]
    }
   ],
   "source": [
    "# Create sequences\n",
    "TIME_STEPS = 10\n",
    "\n",
    "# Generated training sequences for use in the model\n",
    "def create_sequence(values_A, values_b, time_steps = TIME_STEPS):\n",
    "    As, bs = [], []\n",
    "    \n",
    "    for i in range(len(values_A) - time_steps):\n",
    "        As.append(values_A[i: (i+time_steps)])\n",
    "        bs.append(values_b[i+time_steps])\n",
    "        \n",
    "    return np.array(As), np.array(bs)\n",
    "\n",
    "X_train, y_train = create_sequence(std_train.values, std_train.values)\n",
    "X_test, y_test = create_sequence(std_val.values, std_val.values)\n",
    "\n",
    "print(f'Training shape: {X_train.shape}')\n",
    "print(f'Testing shape: {X_test.shape}')"
   ]
  },
  {
   "cell_type": "code",
   "execution_count": 8,
   "metadata": {},
   "outputs": [
    {
     "name": "stdout",
     "output_type": "stream",
     "text": [
      "Model: \"sequential\"\n",
      "_________________________________________________________________\n",
      "Layer (type)                 Output Shape              Param #   \n",
      "=================================================================\n",
      "lstm (LSTM)                  (None, 128)               66560     \n",
      "_________________________________________________________________\n",
      "dropout (Dropout)            (None, 128)               0         \n",
      "_________________________________________________________________\n",
      "repeat_vector (RepeatVector) (None, 10, 128)           0         \n",
      "_________________________________________________________________\n",
      "lstm_1 (LSTM)                (None, 10, 128)           131584    \n",
      "_________________________________________________________________\n",
      "dropout_1 (Dropout)          (None, 10, 128)           0         \n",
      "_________________________________________________________________\n",
      "time_distributed (TimeDistri (None, 10, 1)             129       \n",
      "=================================================================\n",
      "Total params: 198,273\n",
      "Trainable params: 198,273\n",
      "Non-trainable params: 0\n",
      "_________________________________________________________________\n"
     ]
    }
   ],
   "source": [
    "# Build the model\n",
    "timesteps = X_train.shape[1]\n",
    "num_features = X_train.shape[2]\n",
    "\n",
    "LSTM_model = keras.Sequential([\n",
    "    layers.LSTM(128, input_shape = (timesteps, num_features)),\n",
    "    layers.Dropout(0.2), \n",
    "    layers.RepeatVector(timesteps), \n",
    "    layers.LSTM(128, return_sequences = True), \n",
    "    layers.Dropout(0.2), \n",
    "    layers.TimeDistributed(layers.Dense(num_features))   \n",
    "])\n",
    "\n",
    "LSTM_model.compile(loss = 'mae', optimizer = keras.optimizers.Adam(learning_rate = 0.001))\n",
    "LSTM_model.summary()"
   ]
  },
  {
   "cell_type": "code",
   "execution_count": 9,
   "metadata": {},
   "outputs": [
    {
     "name": "stdout",
     "output_type": "stream",
     "text": [
      "Epoch 1/100\n",
      "511/511 [==============================] - 14s 22ms/step - loss: 0.2031 - val_loss: 0.1166\n",
      "Epoch 2/100\n",
      "511/511 [==============================] - 9s 18ms/step - loss: 0.0977 - val_loss: 0.0913\n",
      "Epoch 3/100\n",
      "511/511 [==============================] - 9s 17ms/step - loss: 0.1057 - val_loss: 0.0899\n",
      "Epoch 4/100\n",
      "511/511 [==============================] - 9s 17ms/step - loss: 0.0976 - val_loss: 0.0977\n",
      "Epoch 5/100\n",
      "511/511 [==============================] - 9s 17ms/step - loss: 0.1061 - val_loss: 0.0934\n",
      "Epoch 6/100\n",
      "511/511 [==============================] - 9s 17ms/step - loss: 0.0968 - val_loss: 0.0815\n",
      "Epoch 7/100\n",
      "511/511 [==============================] - 10s 20ms/step - loss: 0.0937 - val_loss: 0.0802\n",
      "Epoch 8/100\n",
      "511/511 [==============================] - 9s 18ms/step - loss: 0.0878 - val_loss: 0.0751\n",
      "Epoch 9/100\n",
      "511/511 [==============================] - 9s 17ms/step - loss: 0.0950 - val_loss: 0.0818\n",
      "Epoch 10/100\n",
      "511/511 [==============================] - 9s 17ms/step - loss: 0.0920 - val_loss: 0.0740\n",
      "Epoch 11/100\n",
      "511/511 [==============================] - 10s 19ms/step - loss: 0.0911 - val_loss: 0.0803\n",
      "Epoch 12/100\n",
      "511/511 [==============================] - 10s 19ms/step - loss: 0.1050 - val_loss: 0.1082\n",
      "Epoch 13/100\n",
      "511/511 [==============================] - 10s 20ms/step - loss: 0.0898 - val_loss: 0.0811\n"
     ]
    }
   ],
   "source": [
    "# Train the model\n",
    "history = LSTM_model.fit(X_train, y_train, epochs = 100, batch_size = 32, validation_split = 0.1,\n",
    "                   callbacks = [keras.callbacks.EarlyStopping(monitor = 'val_loss', patience = 3, mode = 'min')], shuffle = False)"
   ]
  },
  {
   "cell_type": "code",
   "execution_count": 10,
   "metadata": {},
   "outputs": [
    {
     "data": {
      "image/png": "[encoded data removed]",
      "text/plain": [
       "<Figure size 432x288 with 1 Axes>"
      ]
     },
     "metadata": {
      "needs_background": "light"
     },
     "output_type": "display_data"
    }
   ],
   "source": [
    "# Visualize the history\n",
    "plt.plot(history.history['loss'], label = 'Training loss')\n",
    "plt.plot(history.history['val_loss'], label = 'Validation loss')\n",
    "plt.legend();"
   ]
  },
  {
   "cell_type": "code",
   "execution_count": 11,
   "metadata": {},
   "outputs": [
    {
     "name": "stdout",
     "output_type": "stream",
     "text": [
      "142/142 [==============================] - 1s 6ms/step - loss: 0.1039\n"
     ]
    },
    {
     "data": {
      "text/plain": [
       "0.10391592979431152"
      ]
     },
     "execution_count": 11,
     "metadata": {},
     "output_type": "execute_result"
    }
   ],
   "source": [
    "# Evaluate the history\n",
    "LSTM_model.evaluate(X_test, y_test)"
   ]
  },
  {
   "cell_type": "markdown",
   "metadata": {},
   "source": [
    "### Determine Anomalies"
   ]
  },
  {
   "cell_type": "code",
   "execution_count": 12,
   "metadata": {},
   "outputs": [
    {
     "data": {
      "image/png": "[encoded data removed]",
      "text/plain": [
       "<Figure size 432x288 with 1 Axes>"
      ]
     },
     "metadata": {
      "needs_background": "light"
     },
     "output_type": "display_data"
    },
    {
     "name": "stdout",
     "output_type": "stream",
     "text": [
      "Reconstruction error threshold:  0.5929817923748084\n"
     ]
    }
   ],
   "source": [
    "# Find MAE loss on the training data\n",
    "X_train_pred = LSTM_model.predict(X_train, verbose = 0)\n",
    "train_mae_loss = np.mean(np.abs(X_train_pred - X_train), axis = 1)\n",
    "\n",
    "plt.hist(train_mae_loss, bins = 50)\n",
    "plt.xlabel('Train MAE loss')\n",
    "plt.ylabel('Number of samples');\n",
    "plt.show()\n",
    "\n",
    "# Get reconstruction of loss threshold\n",
    "prediction_error = abs(X_train - X_train_pred)\n",
    "threshold = np.mean(prediction_error) + 3 * np.std(prediction_error)\n",
    "print('Reconstruction error threshold: ', threshold)"
   ]
  },
  {
   "cell_type": "code",
   "execution_count": 13,
   "metadata": {},
   "outputs": [
    {
     "data": {
      "image/png": "[encoded data removed]",
      "text/plain": [
       "<Figure size 432x288 with 1 Axes>"
      ]
     },
     "metadata": {
      "needs_background": "light"
     },
     "output_type": "display_data"
    },
    {
     "name": "stdout",
     "output_type": "stream",
     "text": [
      "Test input shape:  (4529, 10, 1)\n"
     ]
    },
    {
     "data": {
      "image/png": "[encoded data removed]",
      "text/plain": [
       "<Figure size 432x288 with 1 Axes>"
      ]
     },
     "metadata": {
      "needs_background": "light"
     },
     "output_type": "display_data"
    },
    {
     "name": "stdout",
     "output_type": "stream",
     "text": [
      "Number of anomaly samples:  36\n"
     ]
    }
   ],
   "source": [
    "# Visualization of prediction\n",
    "\n",
    "fig, ax = plt.subplots()\n",
    "std_val.plot(legend = False, ax = ax)\n",
    "plt.show()\n",
    "\n",
    "# Create sequence from test values\n",
    "print('Test input shape: ', X_test.shape)\n",
    "\n",
    "# Get test MAE loss\n",
    "X_test_pred = LSTM_model.predict(X_test, verbose = 0)\n",
    "test_mae_loss = np.mean(np.abs(X_test_pred - X_test), axis = 1)\n",
    "test_mae_loss = test_mae_loss.reshape((-1))\n",
    "\n",
    "plt.hist(test_mae_loss, bins = 50)\n",
    "plt.xlabel('Test MAE loss')\n",
    "plt.ylabel('Number of samples')\n",
    "plt.show()\n",
    "\n",
    "# Detect all the samples which are anomalies\n",
    "anomalies = test_mae_loss > threshold\n",
    "print('Number of anomaly samples: ', np.sum(anomalies))"
   ]
  },
  {
   "cell_type": "code",
   "execution_count": 14,
   "metadata": {},
   "outputs": [
    {
     "data": {
      "text/plain": [
       "Text(0, 0.5, 'Index')"
      ]
     },
     "execution_count": 14,
     "metadata": {},
     "output_type": "execute_result"
    },
    {
     "data": {
      "image/png": "[encoded data removed]",
      "text/plain": [
       "<Figure size 432x288 with 1 Axes>"
      ]
     },
     "metadata": {
      "needs_background": "light"
     },
     "output_type": "display_data"
    }
   ],
   "source": [
    "# Test loss versus threshold - visualisation\n",
    "test_val_df = pd.DataFrame(std_val[TIME_STEPS:])\n",
    "test_val_df['loss'] = test_mae_loss\n",
    "test_val_df['threshold'] = threshold\n",
    "test_val_df['anomaly'] = test_val_df['loss'] > test_val_df['threshold']\n",
    "test_val_df['value'] = std_val[TIME_STEPS:]['value']\n",
    "\n",
    "test_val_df.tail()\n",
    "\n",
    "# Remaining variables to apply plt.scatter()\n",
    "test_val_df_timestamp = np.array(test_val_df.index)\n",
    "test_val_df_loss = test_val_df['loss']\n",
    "test_val_df_threshold = test_val_df['threshold']\n",
    "\n",
    "plt.figure()\n",
    "plt.plot(test_val_df_timestamp, test_val_df_loss, label = 'Test loss')\n",
    "plt.plot(test_val_df_timestamp, test_val_df_threshold, c = 'r', label = 'Threshold')\n",
    "plt.legend()\n",
    "plt.title('Test loss VS Threshold')\n",
    "plt.xlabel('Timestamp')\n",
    "plt.ylabel('Index')"
   ]
  },
  {
   "cell_type": "code",
   "execution_count": 15,
   "metadata": {},
   "outputs": [],
   "source": [
    "# Plot anomalies\n",
    "\n",
    "# data i is an anomaly if samples [(i - timesteps + 1) to (i)] are anomalies\n",
    "anomalous_data_indices = []\n",
    "\n",
    "for data_idx in range(TIME_STEPS - 1, len(std_val) - TIME_STEPS + 1):\n",
    "    if np.all(anomalies[data_idx - TIME_STEPS + 1: data_idx]):\n",
    "        anomalous_data_indices.append(data_idx)"
   ]
  },
  {
   "cell_type": "code",
   "execution_count": 16,
   "metadata": {},
   "outputs": [
    {
     "name": "stdout",
     "output_type": "stream",
     "text": [
      "(36, 4)\n"
     ]
    }
   ],
   "source": [
    "# Anomalies \n",
    "anomalies = test_val_df.loc[test_val_df['anomaly'] == True]\n",
    "print(anomalies.shape)\n",
    "\n",
    "anomalies.head()\n",
    "\n",
    "anomalies_idxs = []\n",
    "for i in range(len(anomalies)):\n",
    "    for j in range(len(std_val)):\n",
    "        if anomalies.index[i] == std_val.index[j]:\n",
    "            anomalies_idxs.append(j)"
   ]
  },
  {
   "cell_type": "code",
   "execution_count": 27,
   "metadata": {},
   "outputs": [
    {
     "data": {
      "image/png": "[encoded data removed]",
      "text/plain": [
       "<Figure size 432x288 with 1 Axes>"
      ]
     },
     "metadata": {
      "needs_background": "light"
     },
     "output_type": "display_data"
    }
   ],
   "source": [
    "plt.plot(test_val_df.index, test_val_df.value, c = 'b', label = 'Non-anomaly', zorder = -1)\n",
    "plt.scatter(test_anomalies.index, test_anomalies.value, c = 'g', label = 'Real Anomaly', zorder = 1)\n",
    "plt.scatter(anomalies.index, anomalies.value, c = 'r', label = 'Predicted Anomaly', zorder = 2)\n",
    "plt.xlabel('Timestamp')\n",
    "plt.ylabel('System Temperature')\n",
    "\n",
    "plt.show()"
   ]
  }
 ],
 "metadata": {
  "kernelspec": {
   "display_name": "Python 3",
   "language": "python",
   "name": "python3"
  },
  "language_info": {
   "codemirror_mode": {
    "name": "ipython",
    "version": 3
   },
   "file_extension": ".py",
   "mimetype": "text/x-python",
   "name": "python",
   "nbconvert_exporter": "python",
   "pygments_lexer": "ipython3",
   "version": "3.8.5"
  }
 },
 "nbformat": 4,
 "nbformat_minor": 4
}
